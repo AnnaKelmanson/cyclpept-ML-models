{
 "cells": [
  {
   "cell_type": "code",
   "execution_count": 22,
   "metadata": {},
   "outputs": [],
   "source": [
    "\n",
    "from sklearn.metrics import mean_squared_error, r2_score\n",
    "from sklearn.model_selection import cross_val_score\n",
    "import numpy as np\n",
    "from sklearn.ensemble import RandomForestRegressor\n",
    "import joblib\n",
    "from preparation_for_training import generation_fitting_sets\n",
    "\n",
    "def evaluate_model(clf, X_train, y_train, X_val, y_val):\n",
    "    \"\"\"\n",
    "    Evaluates the RandomForestRegressor model on training and validation datasets.\n",
    "    \n",
    "    :param clf: The trained RandomForestRegressor model\n",
    "    :param X_train: Training features\n",
    "    :param y_train: Training labels\n",
    "    :param X_val: Validation features\n",
    "    :param y_val: Validation labels\n",
    "    \"\"\"\n",
    "    # Predictions\n",
    "    y_train_pred = clf.predict(X_train)\n",
    "    y_val_pred = clf.predict(X_val)\n",
    "    \n",
    "    # Training set performance\n",
    "    mse_train = mean_squared_error(y_train, y_train_pred)\n",
    "    r2_train = r2_score(y_train, y_train_pred)\n",
    "    \n",
    "    # Validation set performance\n",
    "    mse_val = mean_squared_error(y_val, y_val_pred)\n",
    "    r2_val = r2_score(y_val, y_val_pred)\n",
    "    \n",
    "    # Cross-validation\n",
    "    scores = cross_val_score(clf, X_train, y_train.values.ravel(), cv=5, scoring='neg_mean_squared_error')\n",
    "    cv_mse = -np.mean(scores)\n",
    "    \n",
    "    print(f\"Training MSE: {mse_train}, R^2: {r2_train}\")\n",
    "    print(f\"Validation MSE: {mse_val}, R^2: {r2_val}\")\n",
    "    print(f\"Cross-Validation MSE: {cv_mse}\")\n",
    "\n",
    "def fit_and_save_model(model_path):\n",
    "    clf = RandomForestRegressor(n_estimators=100, random_state=42)\n",
    "    csv = '/home/annaborisova/projects/cyclpept-ML-models/data/rf.csv'\n",
    "    X_train, y_train, X_test, y_test, X_val, y_val = generation_fitting_sets(csv)\n",
    "    clf.fit(X_train, y_train.values.ravel())\n",
    "    joblib.dump(clf, model_path)\n",
    "\n",
    "# Later on, in another script or after restarting the kernel, load the model\n",
    "#loaded_clf = joblib.load('random_forest_regressor_model.joblib')\n",
    "\n",
    "\n",
    "    \n"
   ]
  },
  {
   "cell_type": "code",
   "execution_count": 23,
   "metadata": {},
   "outputs": [],
   "source": [
    "if __name__ == '__main__':\n",
    "    model_path = '/home/annaborisova/projects/cyclpept-ML-models/fitted_models/random_forest_regressor_model.joblib'\n",
    "    fit_and_save_model(model_path)"
   ]
  },
  {
   "cell_type": "code",
   "execution_count": 30,
   "metadata": {},
   "outputs": [],
   "source": [
    "import joblib\n",
    "from preparation_for_training import generate_input_for_model\n",
    "\n",
    "\n",
    "def make_predictions(smiles_list, model_path='/home/annaborisova/projects/cyclpept-ML-models/drafts/random_forest_regressor_model.joblib'):\n",
    "\n",
    "    loaded_clf = joblib.load(model_path)\n",
    "    df = generate_input_for_model(smiles_list)\n",
    "    features = df\n",
    "    \n",
    "    # Make predictions using the loaded model\n",
    "    predictions = loaded_clf.predict(features)\n",
    "    \n",
    "    return predictions"
   ]
  },
  {
   "cell_type": "code",
   "execution_count": 31,
   "metadata": {},
   "outputs": [],
   "source": [
    "smiles_list = ['CC[C@H](C)[C@H]1C(=O)N[C@@H](Cc2ccccc2)C(=O)N[C@@H](Cc2ccccc2)C(=O)N2CCC[C@H]2C(=O)N[C@@H]([C@@H](C)O)C(=O)N(C)[C@@H](CC(C)C)C(=O)N[C@H](C(=O)N2CCCCC2)CC(=O)N[C@@H](C)C(=O)N[C@@H](C)C(=O)N(C)[C@@H](CC(C)C)C(=O)N[C@@H](CC(C)C)C(=O)N1C']"
   ]
  },
  {
   "cell_type": "code",
   "execution_count": 32,
   "metadata": {},
   "outputs": [
    {
     "data": {
      "text/plain": [
       "array([-4.486025])"
      ]
     },
     "execution_count": 32,
     "metadata": {},
     "output_type": "execute_result"
    }
   ],
   "source": [
    "make_predictions(smiles_list)"
   ]
  },
  {
   "cell_type": "code",
   "execution_count": null,
   "metadata": {},
   "outputs": [],
   "source": []
  }
 ],
 "metadata": {
  "kernelspec": {
   "display_name": "test",
   "language": "python",
   "name": "python3"
  },
  "language_info": {
   "codemirror_mode": {
    "name": "ipython",
    "version": 3
   },
   "file_extension": ".py",
   "mimetype": "text/x-python",
   "name": "python",
   "nbconvert_exporter": "python",
   "pygments_lexer": "ipython3",
   "version": "3.10.13"
  }
 },
 "nbformat": 4,
 "nbformat_minor": 2
}
