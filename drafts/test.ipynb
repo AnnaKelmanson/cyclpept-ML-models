{
 "cells": [
  {
   "cell_type": "code",
   "execution_count": 3,
   "metadata": {},
   "outputs": [
    {
     "name": "stderr",
     "output_type": "stream",
     "text": [
      "Skipped loading some Tensorflow models, missing a dependency. No module named 'tensorflow'\n",
      "Skipped loading some PyTorch models, missing a dependency. No module named 'torch'\n",
      "Skipped loading modules with pytorch-geometric dependency, missing a dependency. No module named 'torch'\n",
      "Skipped loading modules with pytorch-lightning dependency, missing a dependency. No module named 'torch'\n",
      "Skipped loading some Jax models, missing a dependency. No module named 'jax'\n"
     ]
    }
   ],
   "source": [
    "from preprocessing_modules.preprocessing import *\n",
    "from preprocessing_modules.splitter import *\n",
    "from preprocessing_modules.descriptors import *"
   ]
  },
  {
   "cell_type": "code",
   "execution_count": 4,
   "metadata": {},
   "outputs": [
    {
     "name": "stderr",
     "output_type": "stream",
     "text": [
      "/home/kelmanson/Desktop/LIAC/code/ML/cyclpept-ML-models/preprocessing_modules/preprocessing.py:35: DtypeWarning: Columns (24) have mixed types. Specify dtype option on import or set low_memory=False.\n",
      "  df = pd.read_csv('/home/kelmanson/Desktop/LIAC/code/ML/cyclpept-ML-models/CycPeptMPDB_Peptide_Assay_PAMPA.csv')\n"
     ]
    }
   ],
   "source": [
    "\n",
    "df = preprocess_peptide_data_advanced()"
   ]
  },
  {
   "cell_type": "code",
   "execution_count": 5,
   "metadata": {},
   "outputs": [],
   "source": [
    "df = cut_df(df.head())"
   ]
  },
  {
   "cell_type": "code",
   "execution_count": null,
   "metadata": {},
   "outputs": [],
   "source": [
    "for mol in df['SMILES']:\n",
    "    check_validity(mol)"
   ]
  },
  {
   "cell_type": "code",
   "execution_count": 10,
   "metadata": {},
   "outputs": [],
   "source": [
    "df = generate_3d_descriptors(df)"
   ]
  },
  {
   "cell_type": "code",
   "execution_count": 12,
   "metadata": {},
   "outputs": [],
   "source": [
    "df = generate_morgan_count(df)"
   ]
  },
  {
   "cell_type": "code",
   "execution_count": 13,
   "metadata": {},
   "outputs": [
    {
     "data": {
      "text/html": [
       "<div>\n",
       "<style scoped>\n",
       "    .dataframe tbody tr th:only-of-type {\n",
       "        vertical-align: middle;\n",
       "    }\n",
       "\n",
       "    .dataframe tbody tr th {\n",
       "        vertical-align: top;\n",
       "    }\n",
       "\n",
       "    .dataframe thead th {\n",
       "        text-align: right;\n",
       "    }\n",
       "</style>\n",
       "<table border=\"1\" class=\"dataframe\">\n",
       "  <thead>\n",
       "    <tr style=\"text-align: right;\">\n",
       "      <th></th>\n",
       "      <th>CycPeptMPDB_ID</th>\n",
       "      <th>Source</th>\n",
       "      <th>Year</th>\n",
       "      <th>Original_Name_in_Source_Literature</th>\n",
       "      <th>Structurally_Unique_ID</th>\n",
       "      <th>Same_Peptides_ID</th>\n",
       "      <th>Same_Peptides_Source</th>\n",
       "      <th>Same_Peptides_Permeability</th>\n",
       "      <th>Same_Peptides_Assay</th>\n",
       "      <th>SMILES</th>\n",
       "      <th>...</th>\n",
       "      <th>3218693969</th>\n",
       "      <th>3510196525</th>\n",
       "      <th>3537119515</th>\n",
       "      <th>3561911803</th>\n",
       "      <th>3599139274</th>\n",
       "      <th>3624258493</th>\n",
       "      <th>3791102067</th>\n",
       "      <th>3925172229</th>\n",
       "      <th>4121755354</th>\n",
       "      <th>4258313537</th>\n",
       "    </tr>\n",
       "  </thead>\n",
       "  <tbody>\n",
       "    <tr>\n",
       "      <th>0</th>\n",
       "      <td>3</td>\n",
       "      <td>2006_Rezai_1</td>\n",
       "      <td>2006</td>\n",
       "      <td>compound.2</td>\n",
       "      <td>3</td>\n",
       "      <td>NaN</td>\n",
       "      <td>NaN</td>\n",
       "      <td>NaN</td>\n",
       "      <td>NaN</td>\n",
       "      <td>CC(C)C[C@H]1NC(=O)[C@H](Cc2ccc(O)cc2)NC(=O)[C@...</td>\n",
       "      <td>...</td>\n",
       "      <td>4</td>\n",
       "      <td>5</td>\n",
       "      <td>8</td>\n",
       "      <td>1</td>\n",
       "      <td>1</td>\n",
       "      <td>1</td>\n",
       "      <td>5</td>\n",
       "      <td>1</td>\n",
       "      <td>1</td>\n",
       "      <td>3</td>\n",
       "    </tr>\n",
       "    <tr>\n",
       "      <th>1</th>\n",
       "      <td>4</td>\n",
       "      <td>2006_Rezai_1</td>\n",
       "      <td>2006</td>\n",
       "      <td>compound.3</td>\n",
       "      <td>4</td>\n",
       "      <td>NaN</td>\n",
       "      <td>NaN</td>\n",
       "      <td>NaN</td>\n",
       "      <td>NaN</td>\n",
       "      <td>CC(C)C[C@@H]1NC(=O)[C@H](CC(C)C)NC(=O)[C@H](Cc...</td>\n",
       "      <td>...</td>\n",
       "      <td>4</td>\n",
       "      <td>5</td>\n",
       "      <td>8</td>\n",
       "      <td>1</td>\n",
       "      <td>1</td>\n",
       "      <td>1</td>\n",
       "      <td>5</td>\n",
       "      <td>1</td>\n",
       "      <td>1</td>\n",
       "      <td>3</td>\n",
       "    </tr>\n",
       "    <tr>\n",
       "      <th>2</th>\n",
       "      <td>6</td>\n",
       "      <td>2006_Rezai_1</td>\n",
       "      <td>2006</td>\n",
       "      <td>compound.5</td>\n",
       "      <td>6</td>\n",
       "      <td>NaN</td>\n",
       "      <td>NaN</td>\n",
       "      <td>NaN</td>\n",
       "      <td>NaN</td>\n",
       "      <td>CC(C)C[C@@H]1NC(=O)[C@H](CC(C)C)NC(=O)[C@H](Cc...</td>\n",
       "      <td>...</td>\n",
       "      <td>4</td>\n",
       "      <td>5</td>\n",
       "      <td>8</td>\n",
       "      <td>1</td>\n",
       "      <td>1</td>\n",
       "      <td>1</td>\n",
       "      <td>5</td>\n",
       "      <td>1</td>\n",
       "      <td>1</td>\n",
       "      <td>3</td>\n",
       "    </tr>\n",
       "    <tr>\n",
       "      <th>3</th>\n",
       "      <td>7</td>\n",
       "      <td>2006_Rezai_1</td>\n",
       "      <td>2006</td>\n",
       "      <td>compound.6</td>\n",
       "      <td>7</td>\n",
       "      <td>NaN</td>\n",
       "      <td>NaN</td>\n",
       "      <td>NaN</td>\n",
       "      <td>NaN</td>\n",
       "      <td>CC(C)C[C@H]1NC(=O)[C@H](Cc2ccc(O)cc2)NC(=O)[C@...</td>\n",
       "      <td>...</td>\n",
       "      <td>4</td>\n",
       "      <td>5</td>\n",
       "      <td>8</td>\n",
       "      <td>1</td>\n",
       "      <td>1</td>\n",
       "      <td>1</td>\n",
       "      <td>5</td>\n",
       "      <td>1</td>\n",
       "      <td>1</td>\n",
       "      <td>3</td>\n",
       "    </tr>\n",
       "    <tr>\n",
       "      <th>4</th>\n",
       "      <td>8</td>\n",
       "      <td>2006_Rezai_1</td>\n",
       "      <td>2006</td>\n",
       "      <td>compound.7</td>\n",
       "      <td>8</td>\n",
       "      <td>NaN</td>\n",
       "      <td>NaN</td>\n",
       "      <td>NaN</td>\n",
       "      <td>NaN</td>\n",
       "      <td>CC(C)C[C@@H]1NC(=O)[C@H](Cc2ccc(O)cc2)NC(=O)[C...</td>\n",
       "      <td>...</td>\n",
       "      <td>4</td>\n",
       "      <td>5</td>\n",
       "      <td>8</td>\n",
       "      <td>1</td>\n",
       "      <td>1</td>\n",
       "      <td>1</td>\n",
       "      <td>5</td>\n",
       "      <td>1</td>\n",
       "      <td>1</td>\n",
       "      <td>3</td>\n",
       "    </tr>\n",
       "  </tbody>\n",
       "</table>\n",
       "<p>5 rows × 349 columns</p>\n",
       "</div>"
      ],
      "text/plain": [
       "   CycPeptMPDB_ID        Source  Year Original_Name_in_Source_Literature  \\\n",
       "0               3  2006_Rezai_1  2006                         compound.2   \n",
       "1               4  2006_Rezai_1  2006                         compound.3   \n",
       "2               6  2006_Rezai_1  2006                         compound.5   \n",
       "3               7  2006_Rezai_1  2006                         compound.6   \n",
       "4               8  2006_Rezai_1  2006                         compound.7   \n",
       "\n",
       "   Structurally_Unique_ID Same_Peptides_ID Same_Peptides_Source  \\\n",
       "0                       3              NaN                  NaN   \n",
       "1                       4              NaN                  NaN   \n",
       "2                       6              NaN                  NaN   \n",
       "3                       7              NaN                  NaN   \n",
       "4                       8              NaN                  NaN   \n",
       "\n",
       "  Same_Peptides_Permeability Same_Peptides_Assay  \\\n",
       "0                        NaN                 NaN   \n",
       "1                        NaN                 NaN   \n",
       "2                        NaN                 NaN   \n",
       "3                        NaN                 NaN   \n",
       "4                        NaN                 NaN   \n",
       "\n",
       "                                              SMILES  ... 3218693969  \\\n",
       "0  CC(C)C[C@H]1NC(=O)[C@H](Cc2ccc(O)cc2)NC(=O)[C@...  ...          4   \n",
       "1  CC(C)C[C@@H]1NC(=O)[C@H](CC(C)C)NC(=O)[C@H](Cc...  ...          4   \n",
       "2  CC(C)C[C@@H]1NC(=O)[C@H](CC(C)C)NC(=O)[C@H](Cc...  ...          4   \n",
       "3  CC(C)C[C@H]1NC(=O)[C@H](Cc2ccc(O)cc2)NC(=O)[C@...  ...          4   \n",
       "4  CC(C)C[C@@H]1NC(=O)[C@H](Cc2ccc(O)cc2)NC(=O)[C...  ...          4   \n",
       "\n",
       "  3510196525 3537119515 3561911803 3599139274  3624258493  3791102067  \\\n",
       "0          5          8          1          1           1           5   \n",
       "1          5          8          1          1           1           5   \n",
       "2          5          8          1          1           1           5   \n",
       "3          5          8          1          1           1           5   \n",
       "4          5          8          1          1           1           5   \n",
       "\n",
       "  3925172229  4121755354  4258313537  \n",
       "0          1           1           3  \n",
       "1          1           1           3  \n",
       "2          1           1           3  \n",
       "3          1           1           3  \n",
       "4          1           1           3  \n",
       "\n",
       "[5 rows x 349 columns]"
      ]
     },
     "execution_count": 13,
     "metadata": {},
     "output_type": "execute_result"
    }
   ],
   "source": [
    "df"
   ]
  },
  {
   "cell_type": "code",
   "execution_count": null,
   "metadata": {},
   "outputs": [],
   "source": [
    "train, test, val = split_dataset_by_scaffold_and_similarity(df)"
   ]
  },
  {
   "cell_type": "code",
   "execution_count": null,
   "metadata": {},
   "outputs": [],
   "source": [
    "check_leakage(train, test, val)"
   ]
  },
  {
   "cell_type": "code",
   "execution_count": null,
   "metadata": {},
   "outputs": [],
   "source": [
    "tr, te, val = random_splitter(df)"
   ]
  },
  {
   "cell_type": "code",
   "execution_count": null,
   "metadata": {},
   "outputs": [],
   "source": [
    "val"
   ]
  },
  {
   "cell_type": "code",
   "execution_count": null,
   "metadata": {},
   "outputs": [],
   "source": []
  }
 ],
 "metadata": {
  "kernelspec": {
   "display_name": "Python 3",
   "language": "python",
   "name": "python3"
  },
  "language_info": {
   "codemirror_mode": {
    "name": "ipython",
    "version": 3
   },
   "file_extension": ".py",
   "mimetype": "text/x-python",
   "name": "python",
   "nbconvert_exporter": "python",
   "pygments_lexer": "ipython3",
   "version": "3.8.18"
  }
 },
 "nbformat": 4,
 "nbformat_minor": 2
}
